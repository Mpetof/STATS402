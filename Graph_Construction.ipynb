{
 "cells": [
  {
   "cell_type": "code",
   "execution_count": 128,
   "id": "3ae5ffe0-0b9b-465a-bf21-67acdd1a419b",
   "metadata": {},
   "outputs": [
    {
     "name": "stdout",
     "output_type": "stream",
     "text": [
      "No Cuda Available, Running on CPU\n",
      "2.2.1\n",
      "['r_vertex', 'l_vertex', 'complex_code', 'l_edge', 'label', 'r_hood_indices', 'r_edge', 'l_hood_indices']\n"
     ]
    }
   ],
   "source": [
    "import torch\n",
    "import torch.nn as nn\n",
    "import torch.nn.functional as F\n",
    "import torch_geometric\n",
    "from torch_geometric.nn import MessagePassing\n",
    "from torch_geometric.utils import to_networkx\n",
    "\n",
    "import networkx as nx\n",
    "from torch_geometric.data import Data\n",
    "import matplotlib.pyplot as plt\n",
    "import numpy as np\n",
    "\n",
    "import gzip\n",
    "import pickle\n",
    "import os\n",
    "\n",
    "try:\n",
    "    device = torch.device('cuda')\n",
    "    print(\"No Cuda Available, Running on CPU\")\n",
    "except:\n",
    "    print(\"Running on CPU\")\n",
    "\n",
    "os.environ['TORCH'] = torch.__version__\n",
    "print(torch.__version__)\n",
    "###############################################################################\n",
    "#Some util functions\n",
    "def visualize_graph(graph, save=False, filename=\"graph\"):\n",
    "    vis = to_networkx(graph)\n",
    "    plt.figure(1, figsize=(8, 8))\n",
    "    nx.draw(vis, cmap=plt.get_cmap('Set3'), node_size=24, linewidths=15)\n",
    "    if save:\n",
    "        plt.savefig(f\"{filename}.pdf\")\n",
    "    else:\n",
    "        plt.show()\n",
    "###############################################################################\n",
    "train_path='./dataset/train.cpkl.gz'\n",
    "test_path='./dataset/test.cpkl.gz'\n",
    "\n",
    "def load_cpkl_gz(filename):\n",
    "    with gzip.open(filename, 'rb') as f:\n",
    "        data = pickle.load(f, encoding='latin1')\n",
    "    return data\n",
    "\n",
    "train_data = load_cpkl_gz(train_path)\n",
    "test_data = load_cpkl_gz(test_path)\n",
    "print(list(train_data[1][0].keys()))"
   ]
  },
  {
   "cell_type": "code",
   "execution_count": 29,
   "id": "3f2211c5-087a-4b49-b7c8-493563a1b3cc",
   "metadata": {},
   "outputs": [
    {
     "name": "stdout",
     "output_type": "stream",
     "text": [
      "[[  1   0   2 ... 182 184 183]\n",
      " [  0   1   0 ... 184 183 184]]\n",
      "[[0.9498680587048166, 1.572864937269464], [0.9498680587048166, 1.572864937269464], [0.8743675395419659, 1.5384204874424303], [0.8743675395419659, 1.5384204874424303], [0.9377461497215888, 1.71037937957326], [0.9377461497215888, 1.71037937957326], [0.7474877025042037, 2.2581386126833345], [0.7474877025042037, 2.2581386126833345]]\n",
      "[-1, -1, -1, -1, -1, -1, -1, -1]\n",
      "[[1, 34, -1], [1, 47, -1], [1, 64, -1], [1, 79, -1], [1, 93, -1], [1, 102, -1], [1, 148, -1], [1, 184, -1]]\n"
     ]
    }
   ],
   "source": [
    "def convert_to_edges_undirected(train_data, protein_loc, side='l'):\n",
    "    hood_indices_key = f'{side}_hood_indices'\n",
    "    l_hood_indices = train_data[1][protein_loc][hood_indices_key]\n",
    "    n_residues = l_hood_indices.shape[0]\n",
    "    adjacency_matrix = np.zeros((n_residues, n_residues), dtype=int)\n",
    "    for residue_index in range(n_residues):\n",
    "        neighbors = l_hood_indices[residue_index, :, 0]\n",
    "        adjacency_matrix[residue_index, neighbors] = 1\n",
    "        adjacency_matrix[neighbors, residue_index] = 1\n",
    "\n",
    "    assert np.all(adjacency_matrix == adjacency_matrix.T), \"Adjacency matrix must be symmetric.\"\n",
    "    adjacency_matrix_raw = adjacency_matrix.copy()\n",
    "    \n",
    "    def make_upper_triangular_zero(matrix):\n",
    "        upper_triangular_indices = np.triu_indices(matrix.shape[0], k=1)\n",
    "        matrix[upper_triangular_indices] = 0\n",
    "        return matrix\n",
    "\n",
    "    adjacency_matrix = make_upper_triangular_zero(adjacency_matrix)\n",
    "    edges_array = np.array(adjacency_matrix.nonzero())\n",
    "    num_cols = edges_array.shape[1]\n",
    "    edges_undirected = np.zeros((2, 2 * num_cols), dtype=edges_array.dtype)\n",
    "    for i in range(num_cols):\n",
    "        edges_undirected[:, 2*i] = edges_array[:, i]\n",
    "        edges_undirected[:, 2*i+1] = edges_array[::-1, i]\n",
    "\n",
    "    return edges_array, edges_undirected, adjacency_matrix_raw\n",
    "\n",
    "def construct_edge_features(edge_array, train_data, protein_loc, side='l'):\n",
    "    edge_dict = {}\n",
    "    hood_indices_key = f'{side}_hood_indices'\n",
    "    edge_key = f'{side}_edge'\n",
    "    for i in range(edge_array.shape[1]):\n",
    "        key = tuple(edge_array[:, i])\n",
    "        parent_residue, chidren_residue = key\n",
    "        children_search_range = train_data[1][protein_loc][hood_indices_key][parent_residue][:, 0]\n",
    "        \n",
    "        search_result = np.where(children_search_range == chidren_residue)\n",
    "        if len(search_result[0]) == 0:\n",
    "            parent_residue, chidren_residue = chidren_residue, parent_residue\n",
    "            children_search_range = train_data[1][protein_loc][hood_indices_key][parent_residue][:, 0]\n",
    "            search_result = np.where(children_search_range == chidren_residue)\n",
    "        \n",
    "        if len(search_result[0]) > 0:\n",
    "            index = search_result[0][0]\n",
    "            value = train_data[1][protein_loc][edge_key][parent_residue][index]\n",
    "            edge_dict[key] = value\n",
    "        else:\n",
    "            print(f\"No match found for {key}\")\n",
    "        \n",
    "    edge_dict_final = {key: value.tolist() for key, value in edge_dict.items()}\n",
    "    edge_features = [item for sublist in list(edge_dict_final.values()) for item in [sublist, sublist]]\n",
    "    \n",
    "    return edge_features\n",
    "###############################################################################\n",
    "def construct_labels(train_data,protein_loc):\n",
    "    labels_detail=sorted(train_data[1][protein_loc]['label'].tolist(), key=lambda x: (x[0], x[1]))\n",
    "    labels=[sublist[2] for sublist in labels_detail]\n",
    "    return labels,labels_detail\n",
    "###############################################################################\n",
    "def construct_nodes(train_data,protein_loc, side='l'):\n",
    "    vertex_key = f'{side}_vertex'\n",
    "    return train_data[1][protein_loc][vertex_key].tolist()\n",
    "###############################################################################\n",
    "#Example\n",
    "edge_array, edges_undirected, adjacency_matrix_raw = convert_to_edges_undirected(train_data,protein_loc=0,side='l')\n",
    "print(edges_undirected)\n",
    "#Example:\n",
    "edge_array,edges_undirected, adjacency_matrix_raw= convert_to_edges_undirected(train_data,protein_loc=0,side='l')\n",
    "edge_features=construct_edge_features(edge_array,train_data,protein_loc=0)\n",
    "print(edge_features[:8])\n",
    "#Example:\n",
    "labels,labels_detail=construct_labels(train_data,protein_loc=0)\n",
    "print(labels[:8])\n",
    "print(labels_detail[:8])"
   ]
  },
  {
   "cell_type": "code",
   "execution_count": 121,
   "id": "151a19cc-f8ed-48b2-b51d-ba3c292616a1",
   "metadata": {},
   "outputs": [
    {
     "name": "stdout",
     "output_type": "stream",
     "text": [
      "Data(x=[185, 70], edge_index=[2, 4292], edge_attr=[4292, 2], y=[1683])\n"
     ]
    }
   ],
   "source": [
    "# Define graph components, an example\n",
    "x = torch.tensor(construct_nodes(train_data,protein_loc=0, side='l'))\n",
    "\n",
    "edge_array,edges_undirected,_= convert_to_edges_undirected(train_data,protein_loc=0,side='l')\n",
    "edge_features=construct_edge_features(edge_array,train_data,protein_loc=0,side='l')\n",
    "labels,_=construct_labels(train_data,protein_loc=0)\n",
    "\n",
    "edge_index = torch.tensor(edges_undirected)\n",
    "\n",
    "edge_attr = torch.tensor(edge_features)\n",
    "\n",
    "y = torch.tensor(labels)\n",
    "\n",
    "graph = Data(x=x, edge_index=edge_index, edge_attr=edge_attr, y=y)\n",
    "print(graph)\n",
    "\n",
    "#Try graph right components\n",
    "x = torch.tensor(construct_nodes(train_data,protein_loc=0, side='r'))\n",
    "\n",
    "edge_array,edges_undirected,_= convert_to_edges_undirected(train_data,protein_loc=0,side='r')\n",
    "edge_features=construct_edge_features(edge_array,train_data,protein_loc=0,side='r')\n",
    "labels,_=construct_labels(train_data,protein_loc=0)\n",
    "\n",
    "edge_index = torch.tensor(edges_undirected)\n",
    "\n",
    "edge_attr = torch.tensor(edge_features)\n",
    "\n",
    "y = torch.tensor(labels)\n",
    "\n",
    "graph = Data(x=x, edge_index=edge_index, edge_attr=edge_attr, y=y)\n",
    "print(graph)"
   ]
  },
  {
   "cell_type": "code",
   "execution_count": 43,
   "id": "ff4e5267-dd14-432c-90b7-fddadf4af562",
   "metadata": {},
   "outputs": [],
   "source": [
    "#Construct al graphs\n",
    "def construct_and_save_graphs(train_data, protein_pair, graph_folder_path):\n",
    "    # Construct right protein graph\n",
    "    r_edge_array, r_edges_undirected, _ = convert_to_edges_undirected(train_data, protein_loc=protein_pair, side='r')\n",
    "    r_edge_features = construct_edge_features(r_edge_array, train_data, protein_loc=protein_pair, side='r')\n",
    "    labels, _ = construct_labels(train_data, protein_loc=protein_pair)\n",
    "    r_x = torch.tensor(construct_nodes(train_data, protein_loc=protein_pair, side='r'))\n",
    "    r_edge_index = torch.tensor(r_edges_undirected)\n",
    "    r_edge_attr = torch.tensor(r_edge_features)\n",
    "    y = torch.tensor(labels)\n",
    "    r_graph = Data(x=r_x, edge_index=r_edge_index, edge_attr=r_edge_attr, y=y)\n",
    "\n",
    "    # Construct left protein graph\n",
    "    l_edge_array, l_edges_undirected, _ = convert_to_edges_undirected(train_data, protein_loc=protein_pair, side='l')\n",
    "    l_edge_features = construct_edge_features(l_edge_array, train_data, protein_loc=protein_pair, side='l')\n",
    "    l_x = torch.tensor(construct_nodes(train_data, protein_loc=protein_pair, side='l'))\n",
    "    l_edge_index = torch.tensor(l_edges_undirected)\n",
    "    l_edge_attr = torch.tensor(l_edge_features)\n",
    "    l_graph = Data(x=l_x, edge_index=l_edge_index, edge_attr=l_edge_attr, y=y)\n",
    "\n",
    "    # Save the right-protein graph\n",
    "    r_file_name = \"protein_pair_\" + str(protein_pair) + \"_right.pkl\"\n",
    "    r_file_path = os.path.join(graph_folder_path, r_file_name)\n",
    "    with open(r_file_path, 'wb') as f:\n",
    "        pickle.dump(r_graph, f)\n",
    "\n",
    "    # Save the left-protein graph\n",
    "    l_file_name = \"protein_pair_\" + str(protein_pair) + \"_left.pkl\"\n",
    "    l_file_path = os.path.join(graph_folder_path, l_file_name)\n",
    "    with open(l_file_path, 'wb') as f:\n",
    "        pickle.dump(l_graph, f)\n",
    "\n",
    "#Usage\n",
    "GRAGH_FOLDER_PATH = \"./constructed_graphs/\"\n",
    "for protein_pair in range(len(train_data[1])):\n",
    "    construct_and_save_graphs(train_data, protein_pair, GRAGH_FOLDER_PATH)\n"
   ]
  },
  {
   "cell_type": "code",
   "execution_count": 116,
   "id": "f118d030-deb2-44d4-acdb-2986ccfbb130",
   "metadata": {},
   "outputs": [
    {
     "name": "stdout",
     "output_type": "stream",
     "text": [
      "The 25th right protein 3rd residue should have nodes and features:  (168, 70)\n",
      "The 25th right protein 3rd residue top 5 closest neighbor:  [ 2  4 52  5 54]\n",
      "Make sure the following edges are contained: (3,2),(3,4),(3,52),(3,5),(3,54)\n",
      "The 25th right protein (3,1) edge should have edge feature:  [0.92442314 2.08371661]\n"
     ]
    }
   ],
   "source": [
    "#Let's pick an example to confirm the graph is correct\n",
    "print(\"The 25th right protein 3rd residue should have nodes and features: \",train_data[1][25]['r_vertex'].shape)\n",
    "print(\"The 25th right protein 3rd residue top 5 closest neighbor: \",train_data[1][25]['r_hood_indices'][3][:5].reshape(1,-1)[0])\n",
    "print(\"Make sure the following edges are contained: (3,2),(3,4),(3,52),(3,5),(3,54)\")\n",
    "print(\"The 25th right protein (3,1) edge should have edge feature: \",train_data[1][25]['r_edge'][3][0])\n",
    "#print(\"Show that the edge feature is correctly assigned\")"
   ]
  },
  {
   "cell_type": "code",
   "execution_count": 118,
   "id": "3d10b77b-b8bd-4b46-9205-1cf75771637b",
   "metadata": {},
   "outputs": [
    {
     "name": "stdout",
     "output_type": "stream",
     "text": [
      "Data(x=[168, 70], edge_index=[2, 3970], edge_attr=[3970, 2], y=[1045])\n",
      "True True True True True\n",
      "edge(3,2)'s feature:  tensor([0.9244, 2.0837])\n"
     ]
    }
   ],
   "source": [
    "with open('./constructed_graphs/protein_pair_25_right.pkl', 'rb') as f:\n",
    "    graph = pickle.load(f)\n",
    "print(graph)\n",
    "edge_index=graph.edge_index\n",
    "tuple_pairs = list(zip(edge_index[0].tolist(), edge_index[1].tolist()))\n",
    "print((3,1) in tuple_pairs,(3,4) in tuple_pairs,(3,52) in tuple_pairs,(3,5) in tuple_pairs,(3,54) in tuple_pairs)\n",
    "edge_features=graph.edge_attr\n",
    "print(\"edge(3,2)'s feature: \",edge_features[tuple_pairs.index((3, 2))])"
   ]
  },
  {
   "cell_type": "code",
   "execution_count": 133,
   "id": "2b8b1863-b8b2-4007-b10d-7f718eefec5f",
   "metadata": {},
   "outputs": [
    {
     "data": {
      "text/plain": [
       "array([[111, 358,   1],\n",
       "       [ 11, 287,   1],\n",
       "       [115, 301,   1],\n",
       "       ...,\n",
       "       [ 57, 275,  -1],\n",
       "       [ 15,  24,  -1],\n",
       "       [ 41, 277,  -1]])"
      ]
     },
     "execution_count": 133,
     "metadata": {},
     "output_type": "execute_result"
    }
   ],
   "source": [
    "train_data[1][0]['label']"
   ]
  },
  {
   "cell_type": "code",
   "execution_count": 136,
   "id": "4d11290b-b4dc-4e6e-91b3-be002e96e788",
   "metadata": {},
   "outputs": [
    {
     "name": "stdout",
     "output_type": "stream",
     "text": [
      "Data(x=[185, 70], edge_index=[2, 2146], edge_attr=[2146, 2], y=[1683])\n"
     ]
    },
    {
     "data": {
      "text/plain": [
       "array([111, 358,   1])"
      ]
     },
     "execution_count": 136,
     "metadata": {},
     "output_type": "execute_result"
    }
   ],
   "source": [
    "#This is how we get pickle files\n",
    "#(i, j, k)->(ligland,receptor,label)\n",
    "with open('./constructed_graphs/train/protein_pair_0_l.pkl', 'rb') as f:\n",
    "    graph = pickle.load(f)\n",
    "print(graph)\n",
    "#visualize_graph(graph,save=True,filename=\"./Result/Image/protein_pair_0_left\")"
   ]
  }
 ],
 "metadata": {
  "kernelspec": {
   "display_name": "Python (ppi)",
   "language": "python",
   "name": "ppi"
  },
  "language_info": {
   "codemirror_mode": {
    "name": "ipython",
    "version": 3
   },
   "file_extension": ".py",
   "mimetype": "text/x-python",
   "name": "python",
   "nbconvert_exporter": "python",
   "pygments_lexer": "ipython3",
   "version": "3.11.8"
  }
 },
 "nbformat": 4,
 "nbformat_minor": 5
}
